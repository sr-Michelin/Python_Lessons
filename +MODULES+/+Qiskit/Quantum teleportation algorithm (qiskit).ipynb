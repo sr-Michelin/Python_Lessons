{
 "cells": [
  {
   "cell_type": "code",
   "execution_count": 10,
   "id": "fifth-pepper",
   "metadata": {},
   "outputs": [
    {
     "data": {
      "image/png": "[encoded data removed]",
      "text/plain": [
       "<Figure size 86.5974x264.88 with 1 Axes>"
      ]
     },
     "execution_count": 10,
     "metadata": {},
     "output_type": "execute_result"
    }
   ],
   "source": [
    "from qiskit import *\n",
    "\n",
    "circuit = QuantumCircuit(3, 3)\n",
    "circuit.draw(output='mpl')\n",
    "# print(circuit.draw())\n"
   ]
  },
  {
   "cell_type": "code",
   "execution_count": 11,
   "id": "technical-fortune",
   "metadata": {},
   "outputs": [
    {
     "name": "stdout",
     "output_type": "stream",
     "text": [
      "     ┌───┐ ░ \n",
      "q_0: ┤ X ├─░─\n",
      "     └───┘ ░ \n",
      "q_1: ──────░─\n",
      "           ░ \n",
      "q_2: ──────░─\n",
      "           ░ \n",
      "c: 3/════════\n",
      "             \n"
     ]
    }
   ],
   "source": [
    "circuit.x(0)\n",
    "circuit.barrier()\n",
    "print(circuit.draw())"
   ]
  },
  {
   "cell_type": "code",
   "execution_count": 12,
   "id": "qualified-lighting",
   "metadata": {},
   "outputs": [
    {
     "name": "stdout",
     "output_type": "stream",
     "text": [
      "     ┌───┐ ░           \n",
      "q_0: ┤ X ├─░───────────\n",
      "     └───┘ ░ ┌───┐     \n",
      "q_1: ──────░─┤ H ├──■──\n",
      "           ░ └───┘┌─┴─┐\n",
      "q_2: ──────░──────┤ X ├\n",
      "           ░      └───┘\n",
      "c: 3/══════════════════\n",
      "                       \n"
     ]
    }
   ],
   "source": [
    "circuit.h(1)\n",
    "circuit.cx(1, 2)\n",
    "print(circuit.draw())"
   ]
  },
  {
   "cell_type": "code",
   "execution_count": 13,
   "id": "pending-happening",
   "metadata": {},
   "outputs": [
    {
     "name": "stdout",
     "output_type": "stream",
     "text": [
      "     ┌───┐ ░                ┌───┐\n",
      "q_0: ┤ X ├─░─────────────■──┤ H ├\n",
      "     └───┘ ░ ┌───┐     ┌─┴─┐└───┘\n",
      "q_1: ──────░─┤ H ├──■──┤ X ├─────\n",
      "           ░ └───┘┌─┴─┐└───┘     \n",
      "q_2: ──────░──────┤ X ├──────────\n",
      "           ░      └───┘          \n",
      "c: 3/════════════════════════════\n",
      "                                 \n"
     ]
    }
   ],
   "source": [
    "circuit.cx(0, 1)\n",
    "circuit.h(0)\n",
    "print(circuit.draw())"
   ]
  },
  {
   "cell_type": "code",
   "execution_count": 14,
   "id": "general-conditions",
   "metadata": {},
   "outputs": [
    {
     "name": "stdout",
     "output_type": "stream",
     "text": [
      "     ┌───┐ ░                ┌───┐ ░ ┌─┐   \n",
      "q_0: ┤ X ├─░─────────────■──┤ H ├─░─┤M├───\n",
      "     └───┘ ░ ┌───┐     ┌─┴─┐└───┘ ░ └╥┘┌─┐\n",
      "q_1: ──────░─┤ H ├──■──┤ X ├──────░──╫─┤M├\n",
      "           ░ └───┘┌─┴─┐└───┘      ░  ║ └╥┘\n",
      "q_2: ──────░──────┤ X ├───────────░──╫──╫─\n",
      "           ░      └───┘           ░  ║  ║ \n",
      "c: 3/════════════════════════════════╩══╩═\n",
      "                                     0  1 \n"
     ]
    }
   ],
   "source": [
    "circuit.barrier()\n",
    "circuit.measure([0, 1], [0, 1])\n",
    "print(circuit.draw())"
   ]
  },
  {
   "cell_type": "code",
   "execution_count": 16,
   "id": "atmospheric-occurrence",
   "metadata": {},
   "outputs": [
    {
     "name": "stdout",
     "output_type": "stream",
     "text": [
      "     ┌───┐ ░                ┌───┐ ░ ┌─┐    ░          ░         \n",
      "q_0: ┤ X ├─░─────────────■──┤ H ├─░─┤M├────░───────■──░───────■─\n",
      "     └───┘ ░ ┌───┐     ┌─┴─┐└───┘ ░ └╥┘┌─┐ ░       │  ░       │ \n",
      "q_1: ──────░─┤ H ├──■──┤ X ├──────░──╫─┤M├─░───■───┼──░───■───┼─\n",
      "           ░ └───┘┌─┴─┐└───┘      ░  ║ └╥┘ ░ ┌─┴─┐ │  ░ ┌─┴─┐ │ \n",
      "q_2: ──────░──────┤ X ├───────────░──╫──╫──░─┤ X ├─■──░─┤ X ├─■─\n",
      "           ░      └───┘           ░  ║  ║  ░ └───┘    ░ └───┘   \n",
      "c: 3/════════════════════════════════╩══╩═══════════════════════\n",
      "                                     0  1                       \n"
     ]
    }
   ],
   "source": [
    "circuit.barrier()\n",
    "circuit.cx(1, 2)\n",
    "circuit.cz(0, 2)\n",
    "print(circuit.draw())"
   ]
  },
  {
   "cell_type": "code",
   "execution_count": 19,
   "id": "vital-hudson",
   "metadata": {
    "scrolled": true
   },
   "outputs": [
    {
     "data": {
      "image/png": "[encoded data removed]",
      "text/plain": [
       "<Figure size 504x360 with 1 Axes>"
      ]
     },
     "execution_count": 19,
     "metadata": {},
     "output_type": "execute_result"
    }
   ],
   "source": [
    "circuit.measure(2,2)\n",
    "simulator = Aer.get_backend('qasm_simulator')\n",
    "result = execute(circuit, backend=simulator, shots=1024).result()\n",
    "counts = result.get_counts()\n",
    "from qiskit.tools.visualization import plot_histogram\n",
    "plot_histogram(counts)"
   ]
  }
 ],
 "metadata": {
  "kernelspec": {
   "display_name": "Python 3",
   "language": "python",
   "name": "python3"
  },
  "language_info": {
   "codemirror_mode": {
    "name": "ipython",
    "version": 3
   },
   "file_extension": ".py",
   "mimetype": "text/x-python",
   "name": "python",
   "nbconvert_exporter": "python",
   "pygments_lexer": "ipython3",
   "version": "3.8.7"
  }
 },
 "nbformat": 4,
 "nbformat_minor": 5
}

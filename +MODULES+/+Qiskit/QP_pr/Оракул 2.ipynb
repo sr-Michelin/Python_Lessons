{
 "cells": [
  {
   "cell_type": "code",
   "execution_count": null,
   "id": "hawaiian-ambassador",
   "metadata": {},
   "outputs": [],
   "source": [
    "import numpy as np\n",
    "from qiskit import (QuantumCircuit, execute, Aer)\n",
    "from qiskit.visualization import plot_histogram"
   ]
  },
  {
   "cell_type": "code",
   "execution_count": null,
   "id": "proprietary-general",
   "metadata": {},
   "outputs": [],
   "source": [
    "# збалансована\n",
    "sim = Aer.get_backend('qasm_simulator')\n",
    "circ = QuantumCircuit(4, 4)\n",
    "\n",
    "circ.h(0)\n",
    "circ.x(1)\n",
    "circ.h(1)\n",
    "circ.cx(0,1)\n",
    "circ.h(0)\n",
    "circ.barrier()\n",
    "\n",
    "# circ.measure_all()\n",
    "circ.measure(range(1),range(1))\n",
    "circ.draw('mpl')"
   ]
  },
  {
   "cell_type": "code",
   "execution_count": null,
   "id": "recreational-accommodation",
   "metadata": {},
   "outputs": [],
   "source": [
    "simulator = Aer.get_backend('qasm_simulator')\n",
    "result = execute(circ, backend=simulator, shots=1024).result()\n",
    "counts = result.get_counts()\n",
    "print(counts)\n",
    "plot_histogram(counts)"
   ]
  },
  {
   "cell_type": "code",
   "execution_count": null,
   "id": "white-violin",
   "metadata": {},
   "outputs": [],
   "source": []
  }
 ],
 "metadata": {
  "kernelspec": {
   "display_name": "Python 3",
   "language": "python",
   "name": "python3"
  },
  "language_info": {
   "codemirror_mode": {
    "name": "ipython",
    "version": 3
   },
   "file_extension": ".py",
   "mimetype": "text/x-python",
   "name": "python",
   "nbconvert_exporter": "python",
   "pygments_lexer": "ipython3",
   "version": "3.8.7"
  }
 },
 "nbformat": 4,
 "nbformat_minor": 5
}

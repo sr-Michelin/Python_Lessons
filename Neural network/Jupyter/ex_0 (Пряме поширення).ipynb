{
 "cells": [
  {
   "cell_type": "code",
   "execution_count": 1,
   "id": "quality-lewis",
   "metadata": {},
   "outputs": [],
   "source": [
    "import numpy as np\n",
    "\n",
    "\n",
    "def act(x):\n",
    "    return 0 if x < 0.5 else 1"
   ]
  },
  {
   "cell_type": "code",
   "execution_count": 2,
   "id": "novel-afternoon",
   "metadata": {},
   "outputs": [],
   "source": [
    "def go(house, rock, attr):\n",
    "    \"\"\"Функція, що задає логіку примітивної нейронки на побутовому прикладі вибору партнера\\n\"\"\"\n",
    "    x = np.array([house, rock, attr])\n",
    "\n",
    "    w11 = [0.3, 0.3, 0]  # ваги для першого нейрона\n",
    "    w12 = [0.4, -0.5, 1]  # ваги для другого нейрона\n",
    "\n",
    "    weight_1 = np.array([w11, w12])  # матриця 2х3 {два нейрони прихованого шару із трьома вхідними з'язками}\n",
    "    weight_2 = np.array([-1, 1])  # вектор 1х2 {вектор звязку для вихідного шару}\n",
    "\n",
    "    sum_hidden = np.dot(weight_1, x)  # сума на вхід прихованого шару\n",
    "    print('Значення суми на нейронах прихованого шару: {}'.format(sum_hidden))\n",
    "\n",
    "    out_hidden = np.array([act(x) for x in sum_hidden])\n",
    "    print('Значення суми на виходах нейронів прихованого шару: {}'.format(out_hidden))\n",
    "\n",
    "    sum_end = np.dot(weight_2, out_hidden)\n",
    "    y = act(sum_end)\n",
    "    print('Вихідне значення нейронки: {}'.format(y))\n",
    "\n",
    "    return y"
   ]
  },
  {
   "cell_type": "code",
   "execution_count": 3,
   "id": "trying-harvest",
   "metadata": {},
   "outputs": [
    {
     "name": "stdout",
     "output_type": "stream",
     "text": [
      "Функція, що задає логіку примітивної нейронки на побутовому прикладі вибору партнера\n",
      "\n",
      "Значення суми на нейронах прихованого шару: [0.3 1.4]\n",
      "Значення суми на виходах нейронів прихованого шару: [0 1]\n",
      "Вихідне значення нейронки: 1\n",
      "\n",
      "Вона каже \"Так\"!\n"
     ]
    }
   ],
   "source": [
    "house = 1  # присутність власної квартири\n",
    "rock = 0  # (музичні) уподобання/хобі, які не підходять нашій корисливій подрузі\n",
    "attr = 1  # фізіологічна привабливість\n",
    "\n",
    "print(go.__doc__)\n",
    "\n",
    "res = go(house, rock, attr)\n",
    "\n",
    "if res == 1:\n",
    "    print('\\nВона каже \"Так\"!')\n",
    "else:\n",
    "    print('\\nФрензона...')"
   ]
  }
 ],
 "metadata": {
  "kernelspec": {
   "display_name": "Python 3",
   "language": "python",
   "name": "python3"
  },
  "language_info": {
   "codemirror_mode": {
    "name": "ipython",
    "version": 3
   },
   "file_extension": ".py",
   "mimetype": "text/x-python",
   "name": "python",
   "nbconvert_exporter": "python",
   "pygments_lexer": "ipython3",
   "version": "3.8.7"
  }
 },
 "nbformat": 4,
 "nbformat_minor": 5
}

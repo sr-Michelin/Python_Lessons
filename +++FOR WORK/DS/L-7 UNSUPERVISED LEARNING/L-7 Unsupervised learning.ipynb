{
 "cells": [
  {
   "cell_type": "markdown",
   "id": "82be77a6",
   "metadata": {},
   "source": [
    "# Навчання без учителя \n",
    "Робота із нерозміченими даними (без колонки target)"
   ]
  },
  {
   "cell_type": "code",
   "execution_count": null,
   "id": "a4eae23c",
   "metadata": {},
   "outputs": [],
   "source": []
  },
  {
   "cell_type": "code",
   "execution_count": null,
   "id": "a6b116df",
   "metadata": {},
   "outputs": [],
   "source": []
  },
  {
   "cell_type": "code",
   "execution_count": null,
   "id": "44982d82",
   "metadata": {},
   "outputs": [],
   "source": []
  }
 ],
 "metadata": {
  "kernelspec": {
   "display_name": "Python 3 (ipykernel)",
   "language": "python",
   "name": "python3"
  },
  "language_info": {
   "codemirror_mode": {
    "name": "ipython",
    "version": 3
   },
   "file_extension": ".py",
   "mimetype": "text/x-python",
   "name": "python",
   "nbconvert_exporter": "python",
   "pygments_lexer": "ipython3",
   "version": "3.9.7"
  }
 },
 "nbformat": 4,
 "nbformat_minor": 5
}

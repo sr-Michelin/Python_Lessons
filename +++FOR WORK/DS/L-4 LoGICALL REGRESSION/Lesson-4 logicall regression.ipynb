{
 "cells": [
  {
   "cell_type": "code",
   "execution_count": 1,
   "id": "edaae748",
   "metadata": {},
   "outputs": [],
   "source": [
    "import pandas as pd\n",
    "from scipy.sparse import csr_matrix, hstack\n",
    "import pickle"
   ]
  },
  {
   "cell_type": "code",
   "execution_count": 2,
   "id": "af6c2ee9",
   "metadata": {},
   "outputs": [],
   "source": [
    "# Завантаження навчальної та тестової вибірок\n",
    "train_d = pd.read_csv('data/train_sessions.csv', sep=',', index_col = 'session_id')\n",
    "test_d = pd.read_csv('data/test_sessions.csv', sep=',', index_col = 'session_id')"
   ]
  },
  {
   "cell_type": "code",
   "execution_count": 3,
   "id": "45e91faf",
   "metadata": {},
   "outputs": [],
   "source": [
    "# Приведення колонок 'time1' ,..., time10' до формату дати\n",
    "times = [f'time{n}' for n in range(1,11)]\n",
    "train_d[times] = train_d[times].apply(pd.to_datetime)\n",
    "test_d[times] = test_d[times].apply(pd.to_datetime)"
   ]
  },
  {
   "cell_type": "code",
   "execution_count": 4,
   "id": "7d956366",
   "metadata": {},
   "outputs": [],
   "source": [
    "# Завантажуємо словник сайтів і переводим його у DataFrame\n",
    "with open('data/site_dic.pkl', 'rb') as file:\n",
    "    site_dict = pickle.load(file)\n",
    "    \n",
    "sities_dict = pd.DataFrame(list(site_dict.keys()), list(site_dict.values()), columns = ['site'])"
   ]
  },
  {
   "cell_type": "code",
   "execution_count": 5,
   "id": "3e129b92",
   "metadata": {},
   "outputs": [
    {
     "name": "stdout",
     "output_type": "stream",
     "text": [
      "Всього сайтів: 48371 шт.\n"
     ]
    },
    {
     "data": {
      "text/html": [
       "<div>\n",
       "<style scoped>\n",
       "    .dataframe tbody tr th:only-of-type {\n",
       "        vertical-align: middle;\n",
       "    }\n",
       "\n",
       "    .dataframe tbody tr th {\n",
       "        vertical-align: top;\n",
       "    }\n",
       "\n",
       "    .dataframe thead th {\n",
       "        text-align: right;\n",
       "    }\n",
       "</style>\n",
       "<table border=\"1\" class=\"dataframe\">\n",
       "  <thead>\n",
       "    <tr style=\"text-align: right;\">\n",
       "      <th></th>\n",
       "      <th>site</th>\n",
       "    </tr>\n",
       "  </thead>\n",
       "  <tbody>\n",
       "    <tr>\n",
       "      <th>25075</th>\n",
       "      <td>www.abmecatronique.com</td>\n",
       "    </tr>\n",
       "    <tr>\n",
       "      <th>13997</th>\n",
       "      <td>groups.live.com</td>\n",
       "    </tr>\n",
       "    <tr>\n",
       "      <th>42436</th>\n",
       "      <td>majeureliguefootball.wordpress.com</td>\n",
       "    </tr>\n",
       "    <tr>\n",
       "      <th>30911</th>\n",
       "      <td>cdt46.media.tourinsoft.eu</td>\n",
       "    </tr>\n",
       "    <tr>\n",
       "      <th>8104</th>\n",
       "      <td>www.hdwallpapers.eu</td>\n",
       "    </tr>\n",
       "  </tbody>\n",
       "</table>\n",
       "</div>"
      ],
      "text/plain": [
       "                                     site\n",
       "25075              www.abmecatronique.com\n",
       "13997                     groups.live.com\n",
       "42436  majeureliguefootball.wordpress.com\n",
       "30911           cdt46.media.tourinsoft.eu\n",
       "8104                  www.hdwallpapers.eu"
      ]
     },
     "execution_count": 5,
     "metadata": {},
     "output_type": "execute_result"
    }
   ],
   "source": [
    "print(f'Всього сайтів: {sities_dict.shape[0]} шт.')\n",
    "sities_dict.head()"
   ]
  },
  {
   "cell_type": "code",
   "execution_count": 6,
   "id": "09e9251f",
   "metadata": {},
   "outputs": [],
   "source": [
    "y_train = train_d['target'] # цільова змінна"
   ]
  },
  {
   "cell_type": "code",
   "execution_count": 7,
   "id": "b147e389",
   "metadata": {},
   "outputs": [],
   "source": [
    "# Повна таблиця, яка складається із навчальної і тестової ...\n",
    "full_d = pd.concat([train_d.drop('target', axis = 1), test_d])\n",
    "\n",
    "# ... розбивається через \"idx_split\"\n",
    "idx_split = train_d.shape[0]"
   ]
  },
  {
   "cell_type": "markdown",
   "id": "b3fa4de4",
   "metadata": {},
   "source": [
    "На початку час сесій не враховується. Натомість, береться до уваги частота сайтів, які полюбляє \"Еліс\"."
   ]
  },
  {
   "cell_type": "code",
   "execution_count": 8,
   "id": "7d669e48",
   "metadata": {
    "scrolled": true
   },
   "outputs": [
    {
     "data": {
      "text/html": [
       "<div>\n",
       "<style scoped>\n",
       "    .dataframe tbody tr th:only-of-type {\n",
       "        vertical-align: middle;\n",
       "    }\n",
       "\n",
       "    .dataframe tbody tr th {\n",
       "        vertical-align: top;\n",
       "    }\n",
       "\n",
       "    .dataframe thead th {\n",
       "        text-align: right;\n",
       "    }\n",
       "</style>\n",
       "<table border=\"1\" class=\"dataframe\">\n",
       "  <thead>\n",
       "    <tr style=\"text-align: right;\">\n",
       "      <th></th>\n",
       "      <th>site1</th>\n",
       "      <th>site2</th>\n",
       "      <th>site3</th>\n",
       "      <th>site4</th>\n",
       "      <th>site5</th>\n",
       "      <th>site6</th>\n",
       "      <th>site7</th>\n",
       "      <th>site8</th>\n",
       "      <th>site9</th>\n",
       "      <th>site10</th>\n",
       "    </tr>\n",
       "    <tr>\n",
       "      <th>session_id</th>\n",
       "      <th></th>\n",
       "      <th></th>\n",
       "      <th></th>\n",
       "      <th></th>\n",
       "      <th></th>\n",
       "      <th></th>\n",
       "      <th></th>\n",
       "      <th></th>\n",
       "      <th></th>\n",
       "      <th></th>\n",
       "    </tr>\n",
       "  </thead>\n",
       "  <tbody>\n",
       "    <tr>\n",
       "      <th>1</th>\n",
       "      <td>718</td>\n",
       "      <td>0.0</td>\n",
       "      <td>0.0</td>\n",
       "      <td>0.0</td>\n",
       "      <td>0.0</td>\n",
       "      <td>0.0</td>\n",
       "      <td>0.0</td>\n",
       "      <td>0.0</td>\n",
       "      <td>0.0</td>\n",
       "      <td>0.0</td>\n",
       "    </tr>\n",
       "    <tr>\n",
       "      <th>2</th>\n",
       "      <td>890</td>\n",
       "      <td>941.0</td>\n",
       "      <td>3847.0</td>\n",
       "      <td>941.0</td>\n",
       "      <td>942.0</td>\n",
       "      <td>3846.0</td>\n",
       "      <td>3847.0</td>\n",
       "      <td>3846.0</td>\n",
       "      <td>1516.0</td>\n",
       "      <td>1518.0</td>\n",
       "    </tr>\n",
       "    <tr>\n",
       "      <th>3</th>\n",
       "      <td>14769</td>\n",
       "      <td>39.0</td>\n",
       "      <td>14768.0</td>\n",
       "      <td>14769.0</td>\n",
       "      <td>37.0</td>\n",
       "      <td>39.0</td>\n",
       "      <td>14768.0</td>\n",
       "      <td>14768.0</td>\n",
       "      <td>14768.0</td>\n",
       "      <td>14768.0</td>\n",
       "    </tr>\n",
       "    <tr>\n",
       "      <th>4</th>\n",
       "      <td>782</td>\n",
       "      <td>782.0</td>\n",
       "      <td>782.0</td>\n",
       "      <td>782.0</td>\n",
       "      <td>782.0</td>\n",
       "      <td>782.0</td>\n",
       "      <td>782.0</td>\n",
       "      <td>782.0</td>\n",
       "      <td>782.0</td>\n",
       "      <td>782.0</td>\n",
       "    </tr>\n",
       "    <tr>\n",
       "      <th>5</th>\n",
       "      <td>22</td>\n",
       "      <td>177.0</td>\n",
       "      <td>175.0</td>\n",
       "      <td>178.0</td>\n",
       "      <td>177.0</td>\n",
       "      <td>178.0</td>\n",
       "      <td>175.0</td>\n",
       "      <td>177.0</td>\n",
       "      <td>177.0</td>\n",
       "      <td>178.0</td>\n",
       "    </tr>\n",
       "  </tbody>\n",
       "</table>\n",
       "</div>"
      ],
      "text/plain": [
       "            site1  site2    site3    site4  site5   site6    site7    site8  \\\n",
       "session_id                                                                    \n",
       "1             718    0.0      0.0      0.0    0.0     0.0      0.0      0.0   \n",
       "2             890  941.0   3847.0    941.0  942.0  3846.0   3847.0   3846.0   \n",
       "3           14769   39.0  14768.0  14769.0   37.0    39.0  14768.0  14768.0   \n",
       "4             782  782.0    782.0    782.0  782.0   782.0    782.0    782.0   \n",
       "5              22  177.0    175.0    178.0  177.0   178.0    175.0    177.0   \n",
       "\n",
       "              site9   site10  \n",
       "session_id                    \n",
       "1               0.0      0.0  \n",
       "2            1516.0   1518.0  \n",
       "3           14768.0  14768.0  \n",
       "4             782.0    782.0  \n",
       "5             177.0    178.0  "
      ]
     },
     "execution_count": 8,
     "metadata": {},
     "output_type": "execute_result"
    }
   ],
   "source": [
    "sities = [f'site{n}' for n in range(1,11)]\n",
    "full_sities = full_d[sities].fillna(0)\n",
    "full_sities.head() # вибірка із індексів сайтів\n"
   ]
  },
  {
   "cell_type": "markdown",
   "id": "b3eea920",
   "metadata": {},
   "source": [
    "Перевід таблиці id до розрідженого вигляду (оптимізованого під ML), де улюблені сайти \"Еліс\" замінені на \"1\", решта на \"0\""
   ]
  },
  {
   "cell_type": "code",
   "execution_count": 9,
   "id": "cc3e2385",
   "metadata": {},
   "outputs": [],
   "source": [
    "# послідовність із індексами (\"(flatten()\" зжимає вектор до одновимірного)\n",
    "sites_flatten = full_sities.values.flatten()"
   ]
  },
  {
   "cell_type": "code",
   "execution_count": 10,
   "id": "dc534939",
   "metadata": {},
   "outputs": [],
   "source": [
    "# шукана м-ця\n",
    "full_sites_sparse = csr_matrix(([1] * sites_flatten.shape[0], sites_flatten, range(0, sites_flatten.shape[0] + 10, 10), ))[:,1:]"
   ]
  },
  {
   "cell_type": "markdown",
   "id": "df88eb24",
   "metadata": {},
   "source": [
    "## 2. Побудова першої моделі (тільки за sities)"
   ]
  },
  {
   "cell_type": "markdown",
   "id": "ec6168d4",
   "metadata": {},
   "source": [
    "Використання логістичної регресії із пакету sklearn для роботи із 90% даних для навчання, і 10% - для валідації"
   ]
  },
  {
   "cell_type": "code",
   "execution_count": 11,
   "id": "30c6dd3f",
   "metadata": {},
   "outputs": [],
   "source": [
    "from sklearn.linear_model import LogisticRegression\n",
    "from sklearn.metrics import roc_auc_score"
   ]
  },
  {
   "cell_type": "code",
   "execution_count": 12,
   "id": "a20fe6ac",
   "metadata": {},
   "outputs": [],
   "source": [
    "# Розбиття вибірки на начальну і перевірочну\n",
    "X_train_sparse = full_sites_sparse[: idx_split]\n",
    "X_test_sparse = full_sites_sparse[idx_split :]"
   ]
  },
  {
   "cell_type": "code",
   "execution_count": 13,
   "id": "86af5013",
   "metadata": {},
   "outputs": [],
   "source": [
    "# Написання ф-ції, яка повертає якість моделі на відкладеній вибірці\n",
    "def get_auc_lr_valid(X, y, C=1.0, ratio = .9, seed = 17 ):\n",
    "    \"\"\"\n",
    "    X,y - вибірка,\n",
    "    ratio - у якому відношенні поділяється вибірка,\n",
    "    C, seed - кофіцієнт регуляризації, random state логістичної регресії\n",
    "    \"\"\"\n",
    "    train_len = int(ratio * X.shape[0])\n",
    "    X_train = X[: train_len, :]\n",
    "    X_valid = X[train_len: , :]\n",
    "    \n",
    "    y_train = y[: train_len]\n",
    "    y_valid = y[train_len :]\n",
    "    \n",
    "    logit = LogisticRegression(C = C, n_jobs = -1, random_state = seed)\n",
    "    logit.fit(X_train, y_train)\n",
    "    \n",
    "    # ймовірність знаходження \"Еліс\" за прогнозом (valid_pred складається із двох ймовірностей - \"0\", \"1\"). Нас цікавить \"1\"\n",
    "    valid_pred = logit.predict_proba(X_valid)[:, 1]\n",
    "    \n",
    "    # Вивід значення метрики roc_auc_score -- ймовірності за відкладеною вибіркою \n",
    "    return roc_auc_score(y_valid, valid_pred)\n",
    "    "
   ]
  },
  {
   "cell_type": "code",
   "execution_count": 14,
   "id": "a2e04abb",
   "metadata": {},
   "outputs": [
    {
     "name": "stdout",
     "output_type": "stream",
     "text": [
      "Wall time: 3.5 s\n"
     ]
    },
    {
     "data": {
      "text/plain": [
       "0.9642117625218563"
      ]
     },
     "execution_count": 14,
     "metadata": {},
     "output_type": "execute_result"
    }
   ],
   "source": [
    "%%time\n",
    "# Якість моделі на відкладеній вибірці\n",
    "get_auc_lr_valid(X_train_sparse, y_train)"
   ]
  },
  {
   "cell_type": "markdown",
   "id": "36cd54bf",
   "metadata": {},
   "source": [
    "Навчання моделі на тій же відкаленій вибірці (перед тим була задіяна лиш її частина)."
   ]
  },
  {
   "cell_type": "code",
   "execution_count": 15,
   "id": "1130f0af",
   "metadata": {},
   "outputs": [],
   "source": [
    "# ф-ція дл запису кінцевого файлу на Kaggle\n",
    "def write_to_subm(predicted_labels, out_file, target = 'target', index_label = 'session_id'):\n",
    "    pred_df = pd.DataFrame(predicted_labels, index = np.arange(1, predicted_labels.shape[0] + 1), columns = [target])\n",
    "    pred_df.to_csv(out_file, index_label = index_label)"
   ]
  },
  {
   "cell_type": "code",
   "execution_count": 16,
   "id": "9ae2f1e9",
   "metadata": {},
   "outputs": [
    {
     "name": "stdout",
     "output_type": "stream",
     "text": [
      "Wall time: 3.42 s\n"
     ]
    },
    {
     "data": {
      "text/plain": [
       "array([2.21646366e-03, 2.51945472e-09, 6.16240154e-09, ...,\n",
       "       8.40844944e-03, 3.86231242e-04, 1.29356810e-05])"
      ]
     },
     "execution_count": 16,
     "metadata": {},
     "output_type": "execute_result"
    }
   ],
   "source": [
    "%%time\n",
    "# Тестовий запуск логістичної регресії та навчання вибірки\n",
    "logit = LogisticRegression(n_jobs = -1, random_state = 17)\n",
    "logit.fit(X_train_sparse, y_train)\n",
    "\n",
    "# Тестовий прогноз за певними даними вибірки (перші 15 рядків, усі колонки). На виході - ймоівності \"1\", тобто виявлення \"Еліс\"\n",
    "test_pred = logit.predict_proba(X_test_sparse)[:, 1]\n",
    "test_pred"
   ]
  },
  {
   "cell_type": "code",
   "execution_count": 17,
   "id": "8c74bd13",
   "metadata": {},
   "outputs": [],
   "source": [
    "pd.Series(test_pred, index = range(1, test_pred.shape[0] + 1), \n",
    "          name = 'target').to_csv('data/banchmark_1.csv', header = True, index_label = 'session_id')"
   ]
  },
  {
   "cell_type": "code",
   "execution_count": 18,
   "id": "b6ca2458",
   "metadata": {},
   "outputs": [],
   "source": [
    "# Якість моделі на повній вибірці\n",
    "# 0.90736"
   ]
  },
  {
   "cell_type": "markdown",
   "id": "c8a1662a",
   "metadata": {},
   "source": [
    "## Покращення моделі побудовою нових ознак"
   ]
  },
  {
   "cell_type": "markdown",
   "id": "334e2034",
   "metadata": {},
   "source": [
    "Використання моделі часу РРРРММ для щосмісячного лінійного тренду всього періоду"
   ]
  },
  {
   "cell_type": "code",
   "execution_count": 19,
   "id": "6e8ad9b7",
   "metadata": {},
   "outputs": [],
   "source": [
    "from sklearn.preprocessing import StandardScaler\n",
    "from scipy.sparse import csr_matrix, hstack"
   ]
  },
  {
   "cell_type": "code",
   "execution_count": 20,
   "id": "c4e5abda",
   "metadata": {},
   "outputs": [
    {
     "data": {
      "text/plain": [
       "((253561, 1), (82797, 1))"
      ]
     },
     "execution_count": 20,
     "metadata": {},
     "output_type": "execute_result"
    }
   ],
   "source": [
    "# Створюютя нові таблиці ознак\n",
    "new_feat_train = pd.DataFrame(index = train_d.index)\n",
    "new_feat_test = pd.DataFrame(index = test_d.index)\n",
    "\n",
    "# Переведення часу у зручний формат\n",
    "new_feat_train['year_month'] = train_d['time1'].apply(lambda ts: 100 * ts.year + ts.month)\n",
    "new_feat_test['year_month'] = test_d['time1'].apply(lambda ts: 100 * ts.year + ts.month)\n",
    "\n",
    "new_feat_train.shape, new_feat_test.shape"
   ]
  },
  {
   "cell_type": "code",
   "execution_count": 21,
   "id": "180e489f",
   "metadata": {},
   "outputs": [],
   "source": [
    "# маштабування ознак\n",
    "scaler = StandardScaler()\n",
    "scaler.fit(new_feat_train['year_month'].values.reshape(-1,1))\n",
    "scaler.fit(new_feat_test['year_month'].values.reshape(-1,1))\n",
    "\n",
    "new_feat_train['year_month_scaled'] = scaler.transform(new_feat_train['year_month'].values.reshape(-1,1))\n",
    "new_feat_test['year_month_scaled'] = scaler.transform(new_feat_test['year_month'].values.reshape(-1,1))"
   ]
  },
  {
   "cell_type": "markdown",
   "id": "bfd1ad30",
   "metadata": {},
   "source": [
    "Після маштабування знову використовуємо ROC AUC:"
   ]
  },
  {
   "cell_type": "code",
   "execution_count": 22,
   "id": "e6bff209",
   "metadata": {},
   "outputs": [],
   "source": [
    "X_train_sparse_new = csr_matrix(hstack([X_train_sparse, new_feat_train['year_month_scaled'].values.reshape(-1,1)]))\n",
    "X_test_sparse_new = csr_matrix(hstack([X_test_sparse, new_feat_test['year_month_scaled'].values.reshape(-1,1)]))"
   ]
  },
  {
   "cell_type": "code",
   "execution_count": 23,
   "id": "828c3a8e",
   "metadata": {},
   "outputs": [
    {
     "name": "stdout",
     "output_type": "stream",
     "text": [
      "Wall time: 3.38 s\n"
     ]
    },
    {
     "data": {
      "text/plain": [
       "0.9465132827324478"
      ]
     },
     "execution_count": 23,
     "metadata": {},
     "output_type": "execute_result"
    }
   ],
   "source": [
    "%%time\n",
    "# Перевірка якості нової моделі\n",
    "get_auc_lr_valid(X_train_sparse_new, y_train)"
   ]
  },
  {
   "cell_type": "code",
   "execution_count": 24,
   "id": "2258c9c1",
   "metadata": {},
   "outputs": [
    {
     "name": "stdout",
     "output_type": "stream",
     "text": [
      "Wall time: 3.99 s\n"
     ]
    },
    {
     "data": {
      "text/plain": [
       "array([2.86846751e-03, 3.47183323e-10, 7.69118419e-10, ...,\n",
       "       6.15475057e-03, 7.43739408e-04, 6.29254653e-06])"
      ]
     },
     "execution_count": 24,
     "metadata": {},
     "output_type": "execute_result"
    }
   ],
   "source": [
    "%%time\n",
    "# Тестовий запуск логістичної регресії та навчання вибірки\n",
    "logit = LogisticRegression(n_jobs = -1, random_state = 17)\n",
    "logit.fit(X_train_sparse_new, y_train)\n",
    "\n",
    "# Тестовий прогноз за певними даними вибірки (перші 15 рядків, усі колонки). На виході - ймоівності \"1\", тобто виявлення \"Еліс\"\n",
    "test_pred = logit.predict_proba(X_test_sparse_new)[:, 1]\n",
    "test_pred"
   ]
  },
  {
   "cell_type": "code",
   "execution_count": 25,
   "id": "a68cb8d2",
   "metadata": {},
   "outputs": [],
   "source": [
    "pd.Series(test_pred, index = range(1, test_pred.shape[0] + 1), \n",
    "          name = 'target').to_csv('data/banchmark_2.csv', header = True, index_label = 'session_id')"
   ]
  },
  {
   "cell_type": "code",
   "execution_count": 26,
   "id": "ff103f44",
   "metadata": {},
   "outputs": [],
   "source": [
    "# Якість моделі на повній вибірці\n",
    "# 0.90882"
   ]
  }
 ],
 "metadata": {
  "kernelspec": {
   "display_name": "Python 3",
   "language": "python",
   "name": "python3"
  },
  "language_info": {
   "codemirror_mode": {
    "name": "ipython",
    "version": 3
   },
   "file_extension": ".py",
   "mimetype": "text/x-python",
   "name": "python",
   "nbconvert_exporter": "python",
   "pygments_lexer": "ipython3",
   "version": "3.9.4"
  }
 },
 "nbformat": 4,
 "nbformat_minor": 5
}

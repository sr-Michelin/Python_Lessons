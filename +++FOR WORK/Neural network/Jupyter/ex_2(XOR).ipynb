{
 "cells": [
  {
   "cell_type": "code",
   "execution_count": 1,
   "id": "stone-notebook",
   "metadata": {},
   "outputs": [],
   "source": [
    "import numpy as np\n",
    "import matplotlib.pyplot as plt"
   ]
  },
  {
   "cell_type": "code",
   "execution_count": 2,
   "id": "vocal-eight",
   "metadata": {},
   "outputs": [
    {
     "name": "stdout",
     "output_type": "stream",
     "text": [
      "1 1\n",
      "0 0\n"
     ]
    }
   ],
   "source": [
    "def act(x):\n",
    "    return 0 if x <= 0 else 1\n",
    "\n",
    "\n",
    "def go(C):\n",
    "    x = np.array([C[0], C[1], 1])  # bias+1\n",
    "    w1 = [1, 1, -1.5]\n",
    "    w2 = [1, 1, -.5]\n",
    "    w_hidden = np.array([w1, w2])\n",
    "    w_out = np.array([-1, 1, -.5])\n",
    "\n",
    "    sum = np.dot(w_hidden, x)\n",
    "    out = [act(x) for x in sum]\n",
    "    out.append(1)\n",
    "    out = np.array(out)\n",
    "\n",
    "    sum = np.dot(w_out, out)\n",
    "    y = act(sum)\n",
    "    return y\n",
    "\n",
    "\n",
    "C1 = [(0, 1), (0, 1)]\n",
    "C2 = [(0, 0), (1, 1)]\n",
    "\n",
    "print(go(C1[0]), go(C1[1]))\n",
    "print(go(C2[0]), go(C2[1]))"
   ]
  },
  {
   "cell_type": "code",
   "execution_count": 3,
   "id": "constant-florist",
   "metadata": {},
   "outputs": [
    {
     "data": {
      "image/png": "[encoded data removed]",
      "text/plain": [
       "<Figure size 432x288 with 1 Axes>"
      ]
     },
     "metadata": {
      "needs_background": "light"
     },
     "output_type": "display_data"
    }
   ],
   "source": [
    "plt.scatter(C1[0][:], C1[1][:], s=10, c='red')\n",
    "plt.scatter(C2[0][:], C2[1][:], s=10, c='blue')\n",
    "plt.grid(True)\n",
    "plt.show()"
   ]
  }
 ],
 "metadata": {
  "kernelspec": {
   "display_name": "Python 3",
   "language": "python",
   "name": "python3"
  },
  "language_info": {
   "codemirror_mode": {
    "name": "ipython",
    "version": 3
   },
   "file_extension": ".py",
   "mimetype": "text/x-python",
   "name": "python",
   "nbconvert_exporter": "python",
   "pygments_lexer": "ipython3",
   "version": "3.8.7"
  }
 },
 "nbformat": 4,
 "nbformat_minor": 5
}

{
 "cells": [
  {
   "cell_type": "code",
   "execution_count": 1,
   "id": "random-trade",
   "metadata": {},
   "outputs": [],
   "source": [
    "import numpy as np\n",
    "\n",
    "def f(x):\n",
    "    \"\"\"Ф-ція активації у вигляді гіперболічного тангенса\"\"\"\n",
    "    return 2 / (1 + np.exp(-x)) - 1\n",
    "\n",
    "\n",
    "def df(x):\n",
    "    \"\"\"Похідна ф-ції активації\"\"\"\n",
    "    return .5 * (1 + x) * (1 - x)\n",
    "\n",
    "\n",
    "# початкові ваги для:\n",
    "W1 = np.array([[-.2, .3, -.4], [.1, -.3, -.4]])  # першого шару\n",
    "W2 = np.array([.2, .3])  # другого шару\n",
    "\n",
    "\n",
    "def go_forward(inp):\n",
    "    \"\"\"Ф-ція пропуску вектору спостереження через нейронку\"\"\"\n",
    "    sum = np.dot(W1, inp)\n",
    "    out = np.array([f(x) for x in sum])  # вихідне значення для прихованого шару\n",
    "\n",
    "    sum = np.dot(W2, out)  # вихідне значення для усієї нейронки\n",
    "    y = f(sum)\n",
    "    return (y, out)\n",
    "\n",
    "\n",
    "def train(epoch):\n",
    "    \"\"\"Ф-ція навчання нейронної мережі\"\"\"\n",
    "    global W1, W2\n",
    "    lmd = .01  # точність навчання нейронки\n",
    "    N = 10000  # кількість операцій\n",
    "    count = len(epoch)\n",
    "\n",
    "    for k in range(N):\n",
    "        x = epoch[np.random.randint(0, count)]  # випадковий вибір вхідного сигналу для начання нейронки\n",
    "        y, out = go_forward(x[0:3])  # прямий прохід по НМ та обчислення вхідних значень нейрону ****\n",
    "        e = y - x[-1]  # обрахунок відхилення\n",
    "        delta = e * df(y)  # локальнний градієнт\n",
    "\n",
    "        W2[0] = W2[0] - lmd * delta * out[0]  # коректування ваги для першого зв\\'язку\n",
    "        W2[1] = W2[1] - lmd * delta * out[1]  # коректування ваги для другого зв\\'язку\n",
    "\n",
    "        delta2 = W2 * delta * df(out)  # вектор із 2-х локальних мінімумів\n",
    "\n",
    "        # коректування звязків для першого шару\n",
    "        W1[0, :] = W1[0, :] - np.array(x[0:3]) * delta2[0] * lmd\n",
    "        W1[1, :] = W1[0, :] - np.array(x[0:3]) * delta2[1] * lmd"
   ]
  },
  {
   "cell_type": "code",
   "execution_count": 2,
   "id": "accessible-jurisdiction",
   "metadata": {},
   "outputs": [],
   "source": [
    "# Навчальна вибірка (вона же повна вибірка)\n",
    "epoch = [(-1, -1, 0, 0),\n",
    "         (-1, -1, 1, 1),\n",
    "         (-1, 1, 1, 1),\n",
    "         (1, -1, 0, 0),\n",
    "         (1, -1, 1, 1)]"
   ]
  },
  {
   "cell_type": "code",
   "execution_count": 5,
   "id": "respiratory-doctor",
   "metadata": {
    "scrolled": true
   },
   "outputs": [
    {
     "name": "stdout",
     "output_type": "stream",
     "text": [
      "НЕЙРОННА МЕРЕЖА НА ОСНОВІ ЗВОРОТНЬОГО РОЗПОВСЮДЖЕННЯ:\n",
      "\n",
      "Вихідне значення НМ (-1, -1, 0, 0) : 0.0017532999536280514 => 0\n",
      "Вихідне значення НМ (-1, -1, 1, 1) : 0.9539628186063793 => 1\n",
      "Вихідне значення НМ (-1, 1, 1, 1) : 0.9539095485195133 => 1\n",
      "Вихідне значення НМ (1, -1, 0, 0) : -0.00025020552207288826 => 0\n",
      "Вихідне значення НМ (1, -1, 1, 1) : 0.9538917889816263 => 1\n"
     ]
    }
   ],
   "source": [
    "if __name__ == \"__main__\":\n",
    "    train(epoch)  # запуск начання НМ\n",
    "print('Нейронна мережа на основі зворотнього розповсюдження:\\n'.upper())\n",
    "\n",
    "# перевірка отрманих результатів\n",
    "for x in epoch:\n",
    "    y, out = go_forward(x[0:3])\n",
    "    print(f\"Вихідне значення НМ {x} : {y} => {x[-1]}\")"
   ]
  }
 ],
 "metadata": {
  "kernelspec": {
   "display_name": "Python 3",
   "language": "python",
   "name": "python3"
  },
  "language_info": {
   "codemirror_mode": {
    "name": "ipython",
    "version": 3
   },
   "file_extension": ".py",
   "mimetype": "text/x-python",
   "name": "python",
   "nbconvert_exporter": "python",
   "pygments_lexer": "ipython3",
   "version": "3.8.7"
  }
 },
 "nbformat": 4,
 "nbformat_minor": 5
}

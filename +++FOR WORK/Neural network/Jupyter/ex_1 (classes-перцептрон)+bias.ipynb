{
 "cells": [
  {
   "cell_type": "code",
   "execution_count": 2,
   "id": "saving-saint",
   "metadata": {},
   "outputs": [],
   "source": [
    "import numpy as np\n",
    "import matplotlib.pyplot as plt"
   ]
  },
  {
   "cell_type": "code",
   "execution_count": 3,
   "id": "minor-director",
   "metadata": {},
   "outputs": [
    {
     "name": "stdout",
     "output_type": "stream",
     "text": [
      "Клас C1\n",
      "Клас C1\n",
      "Клас C1\n",
      "Клас C1\n",
      "Клас C1\n"
     ]
    }
   ],
   "source": [
    "N = 5\n",
    "b = 3  # bias - зміщення\n",
    "\n",
    "# Клас С1\n",
    "x1 = np.random.random(N)\n",
    "x2 = x1 + [np.random.randint(10) / 10 for i in range(N)] + b\n",
    "C1 = [x1, x2]\n",
    "\n",
    "# Клас С2\n",
    "x1 = np.random.random(N)\n",
    "x2 = x1 - [np.random.randint(10) / 10 for n in range(N)] - .1 + b\n",
    "C2 = [x1, x2]\n",
    "\n",
    "f = [0 + b, 1 + b]  # пряма pi/4 + bias\n",
    "\n",
    "w2 = 0.5\n",
    "w3 = -b * w2\n",
    "w = np.array([-w2, w2, w3])  # ваги для нейроної мережі\n",
    "\n",
    "for i in range(N):\n",
    "    x = np.array([C1[0][i], C1[1][i], 1])\n",
    "    y = np.dot(w, x)\n",
    "\n",
    "    if y >= 0:\n",
    "        print('Клас C1')\n",
    "    else:\n",
    "        print('Клас C2')"
   ]
  },
  {
   "cell_type": "code",
   "execution_count": 5,
   "id": "distributed-intranet",
   "metadata": {},
   "outputs": [
    {
     "data": {
      "image/png": "[encoded data removed]",
      "text/plain": [
       "<Figure size 432x288 with 1 Axes>"
      ]
     },
     "metadata": {
      "needs_background": "light"
     },
     "output_type": "display_data"
    }
   ],
   "source": [
    "plt.scatter(C1[0][:], C1[1][:], s=10, c='red')\n",
    "plt.scatter(C2[0][:], C2[1][:], s=10, c='blue')\n",
    "plt.plot(f)\n",
    "plt.grid(True)\n",
    "plt.show()"
   ]
  }
 ],
 "metadata": {
  "kernelspec": {
   "display_name": "Python 3",
   "language": "python",
   "name": "python3"
  },
  "language_info": {
   "codemirror_mode": {
    "name": "ipython",
    "version": 3
   },
   "file_extension": ".py",
   "mimetype": "text/x-python",
   "name": "python",
   "nbconvert_exporter": "python",
   "pygments_lexer": "ipython3",
   "version": "3.8.7"
  }
 },
 "nbformat": 4,
 "nbformat_minor": 5
}

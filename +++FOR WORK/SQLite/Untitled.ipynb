{
 "cells": [
  {
   "cell_type": "code",
   "execution_count": 2,
   "id": "8be7347b",
   "metadata": {},
   "outputs": [],
   "source": [
    "import sqlite3 as sq\n",
    "import pandas as pd"
   ]
  },
  {
   "cell_type": "code",
   "execution_count": 61,
   "id": "29dbbec0",
   "metadata": {},
   "outputs": [
    {
     "name": "stdout",
     "output_type": "stream",
     "text": [
      "[]\n"
     ]
    }
   ],
   "source": [
    "with sq.connect('data.db') as con:\n",
    "    cur = con.cursor()\n",
    "    \n",
    "    ### Створення БД\n",
    "    # cur.execute(\"\"\"CREATE DATABASE IF NOT EXISTS dbName\"\"\")\n",
    "    \n",
    "    ### Створення таблиці\n",
    "    cur.execute(\"\"\"CREATE TABLE IF NOT EXISTS students(\n",
    "    id INT PRIMARY KEY AUTOINCREMENT,\n",
    "    name TEXT not null,\n",
    "    course INT CHECK(0 >= course >= 6), \n",
    "    shh int);\"\"\")\n",
    "    \n",
    "    ### Внесення нових даних у таблицю\n",
    "    cur.execute(\"\"\"INSERT INTO students (,name, course, shh) VALUES ('Mike', 6, 1770);\"\"\")\n",
    "    \n",
    "    ### Видалення об'єктів таблиці (рядків) при певеній умові\n",
    "    # cur.execute(\"\"\"DELETE FROM students WHERE id !=1;\"\"\")\n",
    "    \n",
    "    cur.execute(\"\"\"SELECT * from students;\"\"\")\n",
    "    \n",
    "    print(cur.fetchall())\n",
    "\n",
    "    \n",
    "    \n",
    "    "
   ]
  },
  {
   "cell_type": "code",
   "execution_count": null,
   "id": "0db7f229",
   "metadata": {},
   "outputs": [],
   "source": []
  }
 ],
 "metadata": {
  "kernelspec": {
   "display_name": "Python 3 (ipykernel)",
   "language": "python",
   "name": "python3"
  },
  "language_info": {
   "codemirror_mode": {
    "name": "ipython",
    "version": 3
   },
   "file_extension": ".py",
   "mimetype": "text/x-python",
   "name": "python",
   "nbconvert_exporter": "python",
   "pygments_lexer": "ipython3",
   "version": "3.9.7"
  }
 },
 "nbformat": 4,
 "nbformat_minor": 5
}
